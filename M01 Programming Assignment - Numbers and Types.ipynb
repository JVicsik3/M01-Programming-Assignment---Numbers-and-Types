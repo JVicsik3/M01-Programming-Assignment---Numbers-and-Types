{
 "cells": [
  {
   "cell_type": "code",
   "execution_count": 1,
   "id": "9030384b",
   "metadata": {},
   "outputs": [
    {
     "name": "stdout",
     "output_type": "stream",
     "text": [
      "3600\n",
      "1440\n",
      "24.0\n",
      "24\n",
      "True\n"
     ]
    }
   ],
   "source": [
    "# 3.1 - 3.6\n",
    "print(60 * 60)\n",
    "seconds_per_hour = 60 * 60\n",
    "print(60 * 24)\n",
    "seconds_per_day = seconds_per_hour * 24\n",
    "print(seconds_per_day / seconds_per_hour)\n",
    "print(seconds_per_day // seconds_per_hour)\n",
    "var1 = seconds_per_day / seconds_per_hour\n",
    "var2 = seconds_per_day // seconds_per_hour\n",
    "print(var1 == var2)"
   ]
  },
  {
   "cell_type": "code",
   "execution_count": null,
   "id": "c853d82b",
   "metadata": {},
   "outputs": [],
   "source": []
  }
 ],
 "metadata": {
  "kernelspec": {
   "display_name": "Python 3 (ipykernel)",
   "language": "python",
   "name": "python3"
  },
  "language_info": {
   "codemirror_mode": {
    "name": "ipython",
    "version": 3
   },
   "file_extension": ".py",
   "mimetype": "text/x-python",
   "name": "python",
   "nbconvert_exporter": "python",
   "pygments_lexer": "ipython3",
   "version": "3.11.5"
  }
 },
 "nbformat": 4,
 "nbformat_minor": 5
}
